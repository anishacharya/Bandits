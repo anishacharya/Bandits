{
 "cells": [
  {
   "cell_type": "code",
   "execution_count": null,
   "id": "38f183ff",
   "metadata": {},
   "outputs": [],
   "source": [
    "algos = ['exp3', 'exp3_ix', 'exp3_soft_clip', 'exp3_clip']\n",
    "\n",
    "etas = [0.001, 0.01, 0.1, 1]\n",
    "\n",
    "\n",
    "# n = 10 \n",
    "# -------------\n",
    "exp3 = []\n",
    "exp3_std = []\n",
    "\n",
    "exp3_ix = []\n",
    "exp3_ix_std = []\n",
    "\n",
    "exp3_sc = []\n",
    "exp3_sc_std = []\n",
    "\n",
    "exp3_c = []\n",
    "exp3_c_std = []\n",
    "\n"
   ]
  }
 ],
 "metadata": {
  "kernelspec": {
   "display_name": "Python 3 (ipykernel)",
   "language": "python",
   "name": "python3"
  },
  "language_info": {
   "codemirror_mode": {
    "name": "ipython",
    "version": 3
   },
   "file_extension": ".py",
   "mimetype": "text/x-python",
   "name": "python",
   "nbconvert_exporter": "python",
   "pygments_lexer": "ipython3",
   "version": "3.9.7"
  }
 },
 "nbformat": 4,
 "nbformat_minor": 5
}
